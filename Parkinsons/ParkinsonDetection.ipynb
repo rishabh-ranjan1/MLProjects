{
 "cells": [
  {
   "cell_type": "code",
   "execution_count": null,
   "id": "c43e0c8c-137a-4377-8423-ca3e70d3d71c",
   "metadata": {
    "tags": []
   },
   "outputs": [],
   "source": [
    "#PARKINSON's Disease Detection\n",
    "#\n",
    "#Rishabh Ranjan\n",
    "#\n",
    "#Data source: https://archive.ics.uci.edu/ml/machine-learning-databases/parkinsons/\n",
    "#!pip install numpy pandas scikit-learn xgboost"
   ]
  },
  {
   "cell_type": "code",
   "execution_count": null,
   "id": "7398ceeb-ff66-4523-9342-9aa6bbd013c8",
   "metadata": {},
   "outputs": [],
   "source": [
    "#Import relevant packages\n",
    "import numpy as np\n",
    "import pandas as pd\n",
    "import os, sys\n",
    "from sklearn.preprocessing import MinMaxScaler\n",
    "from xgboost import XGBClassifier\n",
    "from sklearn.model_selection import train_test_split\n",
    "from sklearn.metrics import accuracy_score, classification_report, confusion_matrix"
   ]
  },
  {
   "cell_type": "code",
   "execution_count": null,
   "id": "512c9572-c721-4bbb-8bbd-46fc63d521b8",
   "metadata": {
    "tags": []
   },
   "outputs": [],
   "source": [
    "#Read the data\n",
    "df=pd.read_csv('parkinsons.data')\n",
    "df.head()"
   ]
  },
  {
   "cell_type": "code",
   "execution_count": null,
   "id": "135235ea-43eb-4fa9-9920-624abec7aac3",
   "metadata": {},
   "outputs": [],
   "source": [
    "#input (features) and output (labels)\n",
    "features=df.loc[:,df.columns!='status'].values[:,1:]\n",
    "labels=df.loc[:,'status'].values"
   ]
  },
  {
   "cell_type": "code",
   "execution_count": null,
   "id": "0f4dde36-0d56-411c-a284-a0cb48a51fa9",
   "metadata": {
    "tags": []
   },
   "outputs": [],
   "source": [
    "scaler=MinMaxScaler((-1,1))\n",
    "x=scaler.fit_transform(features)\n",
    "y=labels"
   ]
  },
  {
   "cell_type": "code",
   "execution_count": null,
   "id": "edfbfbca-1c01-4d9e-b490-258fe8d12fac",
   "metadata": {
    "tags": []
   },
   "outputs": [],
   "source": [
    "x_train,x_test,y_train,y_test=train_test_split(x, y, test_size=0.2, random_state=7)"
   ]
  },
  {
   "cell_type": "code",
   "execution_count": null,
   "id": "184cb20c-d1d5-41a2-ad5c-cbee0ce37c8c",
   "metadata": {
    "tags": []
   },
   "outputs": [],
   "source": [
    "model=XGBClassifier()\n",
    "model.fit(x_train,y_train)"
   ]
  },
  {
   "cell_type": "code",
   "execution_count": null,
   "id": "0ea6f0fc-5b1e-4fe4-ab84-75e551c41d52",
   "metadata": {
    "tags": []
   },
   "outputs": [],
   "source": [
    "# DataFlair - Calculate the accuracy\n",
    "y_pred=model.predict(x_test)\n",
    "print(accuracy_score(y_test, y_pred)*100)"
   ]
  },
  {
   "cell_type": "code",
   "execution_count": null,
   "id": "76afab3c-5c62-431e-b8a1-5adf39bc2a4f",
   "metadata": {
    "tags": []
   },
   "outputs": [],
   "source": [
    "target_names = ['Parkinson', 'No Parkinson']\n",
    "print(classification_report(y_test, y_pred, target_names=target_names))"
   ]
  },
  {
   "cell_type": "code",
   "execution_count": null,
   "id": "bcd8665d-c91f-4915-a508-d8cb898c8c63",
   "metadata": {},
   "outputs": [],
   "source": [
    "print(confusion_matrix(y_test, y_pred))"
   ]
  },
  {
   "cell_type": "code",
   "execution_count": null,
   "id": "2d2bf5fb-0c0e-43c5-93f3-05b4139ffdea",
   "metadata": {},
   "outputs": [],
   "source": []
  }
 ],
 "metadata": {
  "kernelspec": {
   "display_name": "Python 3 (ipykernel)",
   "language": "python",
   "name": "python3"
  },
  "language_info": {
   "codemirror_mode": {
    "name": "ipython",
    "version": 3
   },
   "file_extension": ".py",
   "mimetype": "text/x-python",
   "name": "python",
   "nbconvert_exporter": "python",
   "pygments_lexer": "ipython3",
   "version": "3.11.3"
  }
 },
 "nbformat": 4,
 "nbformat_minor": 5
}
